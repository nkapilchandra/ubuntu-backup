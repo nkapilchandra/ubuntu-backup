{
 "cells": [
  {
   "cell_type": "code",
   "execution_count": 65,
   "metadata": {
    "collapsed": false
   },
   "outputs": [],
   "source": [
    "import numpy as np\n",
    "import pandas as pd\n",
    "from sklearn import linear_model\n",
    "from sklearn.cross_validation import train_test_split\n",
    "from sklearn.grid_search import GridSearchCV\n",
    "from sklearn.kernel_ridge import KernelRidge\n",
    "from sklearn.metrics import mean_absolute_error\n",
    "import matplotlib.pyplot as plt"
   ]
  },
  {
   "cell_type": "code",
   "execution_count": 66,
   "metadata": {
    "collapsed": false
   },
   "outputs": [
    {
     "name": "stdout",
     "output_type": "stream",
     "text": [
      "(3, 6528)\n"
     ]
    }
   ],
   "source": [
    "file = open('bulk_1250K.xyz','r')\n",
    "f1,f2,f3 = [],[],[]\n",
    "count = 0\n",
    "while True:\n",
    "    \n",
    "    n = file.readline()\n",
    "    start = file.readline()\n",
    "    if (start == ''):\n",
    "        break\n",
    "    x1,x2,x3 = [],[],[]\n",
    "    \n",
    "    \n",
    "    for i in range(int(n)):\n",
    "        line = file.readline()\n",
    "        line = line.split()\n",
    "        x1.append(float(line[1]))\n",
    "        x2.append(float(line[2]))\n",
    "        x3.append(float(line[3]))\n",
    "        f1.append(float(line[5]))\n",
    "        f2.append(float(line[6]))\n",
    "        f3.append(float(line[7]))\n",
    "        mat_x = np.array([x1]*32)\n",
    "        mat_y = np.array([x2]*32)\n",
    "        mat_z = np.array([x3]*32)\n",
    "        \n",
    "    r1 = np.absolute(mat_x - mat_x.T)\n",
    "    r2 = np.absolute(mat_y - mat_y.T)\n",
    "    r3 = np.absolute(mat_z - mat_z.T)\n",
    "\n",
    "        \n",
    "    r = np.sqrt(np.square(r1)+np.square(r2)+np.square(r3))\n",
    "        \n",
    "    r_k1 = np.divide(r1,r)\n",
    "    r_k2 = np.divide(r2,r)\n",
    "    r_k3 = np.divide(r3,r)\n",
    "    r_c = np.amax(r)\n",
    "#     r_c  = 8\n",
    "    \n",
    "    r_k1[np.where(np.isnan(r_k1))] = 0\n",
    "    r_k2[np.where(np.isnan(r_k2))] = 0\n",
    "    r_k3[np.where(np.isnan(r_k3))] = 0\n",
    "\n",
    "    func = 0.5*(np.cos(np.pi*r/r_c) + 1)\n",
    "        \n",
    "    v1 = np.multiply(r_k1,np.multiply(np.exp(-np.square(r/32)),func))\n",
    "    v2 = np.multiply(r_k2,np.multiply(np.exp(-np.square(r/32)),func))\n",
    "    v3 = np.multiply(r_k3,np.multiply(np.exp(-np.square(r/32)),func))\n",
    "        \n",
    "    v1 = np.sum(v1,axis=0)\n",
    "    v2 = np.sum(v2,axis=0)\n",
    "    v3 = np.sum(v3,axis=0)\n",
    "#     print(v1[0])\n",
    "    \n",
    "    if (count == 0):\n",
    "        X_train = np.vstack((v1,np.vstack((v2,v3))))\n",
    "    else:\n",
    "        X_train = np.hstack((X_train,np.vstack((v1,np.vstack((v2,v3))))))\n",
    "    \n",
    "    count += 1\n",
    "\n",
    "f1 = np.array(f1)\n",
    "f2 = np.array(f2)\n",
    "f3 = np.array(f3)\n",
    "print(X_train.shape)\n",
    "X_train1 = pd.DataFrame(X_train.T)\n",
    "X_train1.head(5)\n",
    "X_train = X_train.T\n",
    "                                \n",
    "file.close()\n",
    "        \n",
    "        \n",
    "    "
   ]
  },
  {
   "cell_type": "code",
   "execution_count": 67,
   "metadata": {
    "collapsed": false
   },
   "outputs": [
    {
     "name": "stdout",
     "output_type": "stream",
     "text": [
      "(6528, 3)\n",
      "(6528,)\n"
     ]
    }
   ],
   "source": [
    "print(X_train.shape)\n",
    "print(f1.shape)"
   ]
  },
  {
   "cell_type": "code",
   "execution_count": 68,
   "metadata": {
    "collapsed": false
   },
   "outputs": [
    {
     "name": "stdout",
     "output_type": "stream",
     "text": [
      "0.0120984785964\n"
     ]
    }
   ],
   "source": [
    "X_train, X_test, y_train, y_test = train_test_split(X_train,f1,test_size=0.2)\n",
    "model = KernelRidge(kernel='rbf',alpha=0.01,gamma=100)\n",
    "model.fit(X_train,y_train)\n",
    "print(mean_absolute_error(model.predict(X_test),y_test))\n"
   ]
  },
  {
   "cell_type": "code",
   "execution_count": 69,
   "metadata": {
    "collapsed": false
   },
   "outputs": [
    {
     "data": {
      "image/png": "[encoded data removed]",
      "text/plain": [
       "<matplotlib.figure.Figure at 0x7f056d462390>"
      ]
     },
     "metadata": {},
     "output_type": "display_data"
    }
   ],
   "source": [
    "plt.plot(y_test,model.predict(X_test),'bo')\n",
    "plt.xlabel(\"QM Forces\")\n",
    "plt.ylabel(\"ML Forces\")\n",
    "plt.title(\"alpha=0.01, gamma=100, error=0.01209\")\n",
    "plt.savefig('plot2.jpg')\n",
    "plt.show()"
   ]
  },
  {
   "cell_type": "code",
   "execution_count": null,
   "metadata": {
    "collapsed": true
   },
   "outputs": [],
   "source": []
  }
 ],
 "metadata": {
  "anaconda-cloud": {},
  "kernelspec": {
   "display_name": "Python [default]",
   "language": "python",
   "name": "python3"
  },
  "language_info": {
   "codemirror_mode": {
    "name": "ipython",
    "version": 3
   },
   "file_extension": ".py",
   "mimetype": "text/x-python",
   "name": "python",
   "nbconvert_exporter": "python",
   "pygments_lexer": "ipython3",
   "version": "3.5.2"
  }
 },
 "nbformat": 4,
 "nbformat_minor": 2
}
